{
 "cells": [
  {
   "cell_type": "code",
   "execution_count": 106,
   "metadata": {
    "ExecuteTime": {
     "end_time": "2019-10-06T18:39:43.869311Z",
     "start_time": "2019-10-06T18:39:43.864844Z"
    }
   },
   "outputs": [],
   "source": [
    "# A Python program to check URLs by Regular Expressions \n",
    "\n",
    "# Importing libraries \n",
    "\n",
    "import re\n",
    "from datetime import datetime\n"
   ]
  },
  {
   "cell_type": "code",
   "execution_count": 107,
   "metadata": {
    "ExecuteTime": {
     "end_time": "2019-10-06T18:39:45.897622Z",
     "start_time": "2019-10-06T18:39:45.882209Z"
    },
    "code_folding": []
   },
   "outputs": [],
   "source": [
    "class URL_Tester():\n",
    "    \"\"\" This class takes a configured grouped list of urls and then \n",
    "    checked by one or more regular expressions. The output results\n",
    "    are saved by automatically creating a new file with details info. \n",
    "    \n",
    "    Example: We have a list of URL eg. www.google.com and\n",
    "    we run a regular expression eg. '\\.com' that finds if\n",
    "    the given URL is matched with the part '.com'. If it finds \n",
    "    the match, it will write the output value in the text file as follows:\n",
    "    \n",
    "    Date: 06-10-2019 Time: 08:26:36:994348_PM <re.Match object; span=(3, 7), match='.com'>\n",
    "    \"\"\"\n",
    "\n",
    "    def __init__(self, source_file, output_file, reg_ex=r'.'):\n",
    "        \"\"\"Initializes the URL_Tester class with the parameters\n",
    "        \n",
    "        Args: \n",
    "        source_file = Name of the file that has the lists of URLS \n",
    "        output_file = Name of the file that will be saved as output\n",
    "        \n",
    "        \"\"\"\n",
    "        \n",
    "        self.source_file = source_file\n",
    "        self.output_file = output_file\n",
    "        self.reg_ex = reg_ex\n",
    "\n",
    "    def url_check(self):\n",
    "        \"\"\" This function checks the list of URLs in according to \n",
    "        the regular expressions passed in as parameters.\n",
    "        \"\"\"\n",
    "\n",
    "        try:\n",
    "            time = datetime.now().strftime(\"Date: %d-%m-%Y Time: %I:%M:%S:%f_%p\")\n",
    "\n",
    "            patterns = self.reg_ex\n",
    "\n",
    "            # Extracting the regular expressions \n",
    "            for regex in patterns:\n",
    "                pattern = re.compile(regex)\n",
    "\n",
    "                # Reading the Source/URL files\n",
    "                with open(self.source_file, 'r') as f:\n",
    "                    urls = f.read()\n",
    "                    matches = pattern.finditer(urls)\n",
    "\n",
    "                # Writing the outputs in the file \n",
    "                with open(self.output_file, 'a') as f:\n",
    "                    print('Regex Test Case: ', regex, file=f)\n",
    "                    \n",
    "                    for match in matches:\n",
    "                        print(time, match, file=f)\n",
    "\n",
    "            print(\"Nice, The program executed successfully. \")\n",
    "\n",
    "        except:\n",
    "            print(\"Oops, an exception occurred!\")\n"
   ]
  },
  {
   "cell_type": "code",
   "execution_count": 108,
   "metadata": {
    "ExecuteTime": {
     "end_time": "2019-10-06T18:39:48.042382Z",
     "start_time": "2019-10-06T18:39:48.001711Z"
    }
   },
   "outputs": [
    {
     "name": "stdout",
     "output_type": "stream",
     "text": [
      "Nice, The program executed successfully. \n"
     ]
    }
   ],
   "source": [
    "# Writing the regular expressions \n",
    "regex_patterns = [\n",
    "    r'(http(s)?:\\/\\/.)?(www\\.)?[-a-zA-Z0-9@:%._\\+#=]{2,256}\\.[a-z]{2,6}\\b([-a-zA-Z0-9@:%_\\+.#?&//=]*)',\n",
    "    r'((http|https)\\:\\/\\/)?[a-zA-Z0-9\\.\\/\\?\\:@\\-_=#]+\\.([a-zA-Z]){2,6}([a-zA-Z0-9\\.\\&\\/\\?\\:@\\-_=#])*',\n",
    "    r'\\.com',\n",
    "    r'\\.org']\n",
    "\n",
    "# Executing the program by class name and required arguments \n",
    "URL_Tester('URL_list.txt', 'Checked_urls.txt', regex_patterns).url_check()\n"
   ]
  },
  {
   "cell_type": "code",
   "execution_count": null,
   "metadata": {},
   "outputs": [],
   "source": []
  }
 ],
 "metadata": {
  "kernelspec": {
   "display_name": "Python 3",
   "language": "python",
   "name": "python3"
  },
  "toc": {
   "base_numbering": 1,
   "nav_menu": {},
   "number_sections": true,
   "sideBar": true,
   "skip_h1_title": false,
   "title_cell": "Table of Contents",
   "title_sidebar": "Contents",
   "toc_cell": false,
   "toc_position": {},
   "toc_section_display": true,
   "toc_window_display": false
  },
  "varInspector": {
   "cols": {
    "lenName": 16,
    "lenType": 16,
    "lenVar": 40
   },
   "kernels_config": {
    "python": {
     "delete_cmd_postfix": "",
     "delete_cmd_prefix": "del ",
     "library": "var_list.py",
     "varRefreshCmd": "print(var_dic_list())"
    },
    "r": {
     "delete_cmd_postfix": ") ",
     "delete_cmd_prefix": "rm(",
     "library": "var_list.r",
     "varRefreshCmd": "cat(var_dic_list()) "
    }
   },
   "types_to_exclude": [
    "module",
    "function",
    "builtin_function_or_method",
    "instance",
    "_Feature"
   ],
   "window_display": false
  }
 },
 "nbformat": 4,
 "nbformat_minor": 2
}
